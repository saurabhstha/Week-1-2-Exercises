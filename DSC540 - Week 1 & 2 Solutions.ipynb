{
 "cells": [
  {
   "cell_type": "markdown",
   "metadata": {},
   "source": [
    "<b><font color=red>Name: Saurabh Shrestha    \n",
    "Assignment: Weeks 1 & 2 Exercises   \n",
    "Date: June 20, 2021</b></font>"
   ]
  },
  {
   "cell_type": "markdown",
   "metadata": {},
   "source": [
    " #### Create a Jupyter notebook where you create a list, iterate over the list and sort your results,     \n",
    "#### generate random numbers, add to the list,and then print your results."
   ]
  },
  {
   "cell_type": "code",
   "execution_count": 123,
   "metadata": {},
   "outputs": [],
   "source": [
    "# created a list\n",
    "items = [2,2,4,8,4,10,123,2,3]"
   ]
  },
  {
   "cell_type": "code",
   "execution_count": 124,
   "metadata": {},
   "outputs": [
    {
     "data": {
      "text/plain": [
       "[2, 2, 4, 8, 4, 10, 123, 2, 3]"
      ]
     },
     "execution_count": 124,
     "metadata": {},
     "output_type": "execute_result"
    }
   ],
   "source": [
    "items"
   ]
  },
  {
   "cell_type": "code",
   "execution_count": 125,
   "metadata": {},
   "outputs": [
    {
     "name": "stdout",
     "output_type": "stream",
     "text": [
      "2\n",
      "2\n",
      "4\n",
      "8\n",
      "4\n",
      "10\n",
      "123\n",
      "2\n",
      "3\n"
     ]
    }
   ],
   "source": [
    "# iterated over above list\n",
    "for i in items:\n",
    "    print(i)"
   ]
  },
  {
   "cell_type": "code",
   "execution_count": 126,
   "metadata": {},
   "outputs": [],
   "source": [
    "items.sort()"
   ]
  },
  {
   "cell_type": "code",
   "execution_count": 127,
   "metadata": {},
   "outputs": [
    {
     "data": {
      "text/plain": [
       "[2, 2, 2, 3, 4, 4, 8, 10, 123]"
      ]
     },
     "execution_count": 127,
     "metadata": {},
     "output_type": "execute_result"
    }
   ],
   "source": [
    "items"
   ]
  },
  {
   "cell_type": "code",
   "execution_count": 128,
   "metadata": {},
   "outputs": [],
   "source": [
    "# import library\n",
    "import random as rd"
   ]
  },
  {
   "cell_type": "code",
   "execution_count": 129,
   "metadata": {},
   "outputs": [
    {
     "data": {
      "text/plain": [
       "7"
      ]
     },
     "execution_count": 129,
     "metadata": {},
     "output_type": "execute_result"
    }
   ],
   "source": [
    "rd.randint(1,10)"
   ]
  },
  {
   "cell_type": "code",
   "execution_count": 130,
   "metadata": {},
   "outputs": [],
   "source": [
    "items.append(rd.randint(1,10))"
   ]
  },
  {
   "cell_type": "code",
   "execution_count": 131,
   "metadata": {},
   "outputs": [
    {
     "data": {
      "text/plain": [
       "[2, 2, 2, 3, 4, 4, 8, 10, 123, 6]"
      ]
     },
     "execution_count": 131,
     "metadata": {},
     "output_type": "execute_result"
    }
   ],
   "source": [
    "items"
   ]
  },
  {
   "cell_type": "code",
   "execution_count": 132,
   "metadata": {},
   "outputs": [],
   "source": [
    "# importing required library\n",
    "import pandas as pd"
   ]
  },
  {
   "cell_type": "code",
   "execution_count": 133,
   "metadata": {},
   "outputs": [],
   "source": [
    "# working with world-population dataset\n",
    "d_frame= pd.read_excel('world-population.xlsm')"
   ]
  },
  {
   "cell_type": "code",
   "execution_count": 134,
   "metadata": {},
   "outputs": [
    {
     "data": {
      "text/html": [
       "<div>\n",
       "<style scoped>\n",
       "    .dataframe tbody tr th:only-of-type {\n",
       "        vertical-align: middle;\n",
       "    }\n",
       "\n",
       "    .dataframe tbody tr th {\n",
       "        vertical-align: top;\n",
       "    }\n",
       "\n",
       "    .dataframe thead th {\n",
       "        text-align: right;\n",
       "    }\n",
       "</style>\n",
       "<table border=\"1\" class=\"dataframe\">\n",
       "  <thead>\n",
       "    <tr style=\"text-align: right;\">\n",
       "      <th></th>\n",
       "      <th>Year</th>\n",
       "      <th>Population</th>\n",
       "    </tr>\n",
       "  </thead>\n",
       "  <tbody>\n",
       "    <tr>\n",
       "      <th>0</th>\n",
       "      <td>1960</td>\n",
       "      <td>3028654024</td>\n",
       "    </tr>\n",
       "    <tr>\n",
       "      <th>1</th>\n",
       "      <td>1961</td>\n",
       "      <td>3068356747</td>\n",
       "    </tr>\n",
       "    <tr>\n",
       "      <th>2</th>\n",
       "      <td>1962</td>\n",
       "      <td>3121963107</td>\n",
       "    </tr>\n",
       "  </tbody>\n",
       "</table>\n",
       "</div>"
      ],
      "text/plain": [
       "   Year  Population\n",
       "0  1960  3028654024\n",
       "1  1961  3068356747\n",
       "2  1962  3121963107"
      ]
     },
     "execution_count": 134,
     "metadata": {},
     "output_type": "execute_result"
    }
   ],
   "source": [
    "d_frame.head(3)"
   ]
  },
  {
   "cell_type": "code",
   "execution_count": 135,
   "metadata": {},
   "outputs": [],
   "source": [
    "# importing neede package for linechart\n",
    "import matplotlib.pyplot as plt"
   ]
  },
  {
   "cell_type": "code",
   "execution_count": 136,
   "metadata": {},
   "outputs": [
    {
     "data": {
      "image/png": "[encoded data removed]",
      "text/plain": [
       "<Figure size 432x288 with 1 Axes>"
      ]
     },
     "metadata": {
      "needs_background": "light"
     },
     "output_type": "display_data"
    }
   ],
   "source": [
    "# line chart using matplotlbe for world-populationd dataset\n",
    "plt.plot(d_frame.Year, d_frame.Population)\n",
    "plt.show()"
   ]
  },
  {
   "cell_type": "markdown",
   "metadata": {},
   "source": [
    "#### 3. a. Activity 1 - Handling lists"
   ]
  },
  {
   "cell_type": "markdown",
   "metadata": {},
   "source": [
    "Create a list of 100 random numbers. \n",
    "Create a new list from this random list, with numbers that are divisible by 3.\n",
    "Calculate the length of these two lists and store the difference in a new variable. \n",
    "Using a loop, perform steps 2 and 3 and find the difference variable three times. \n",
    "Find the arithmetic mean of these three difference values."
   ]
  },
  {
   "cell_type": "code",
   "execution_count": 137,
   "metadata": {},
   "outputs": [],
   "source": [
    "# list of 100 random numbers\n",
    "randomlist = rd.sample(range(0, 100), 100)"
   ]
  },
  {
   "cell_type": "code",
   "execution_count": 138,
   "metadata": {},
   "outputs": [],
   "source": [
    "# new list from above reandom list with numbers that are divisible by 3\n",
    "new_list = []\n",
    "for i in randomlist:\n",
    "    if i % 3 == 0:\n",
    "        new_list.append(i)\n",
    "    else:\n",
    "        continue"
   ]
  },
  {
   "cell_type": "code",
   "execution_count": 139,
   "metadata": {},
   "outputs": [
    {
     "name": "stdout",
     "output_type": "stream",
     "text": [
      "Arithmetic mean is: 66\n"
     ]
    }
   ],
   "source": [
    "# Using a loop, perform steps 2 and 3 and find the difference variable three times. \n",
    "\n",
    "for i in range(3):\n",
    "    random_num = [rd.randint(0, 200) for _ in range(100)]\n",
    "    random_num3 = [n for n in random_num if n%3 == 0]\n",
    "    diff = len(random_num)-len(random_num3)\n",
    "print(\"Arithmetic mean is:\", diff)"
   ]
  },
  {
   "cell_type": "markdown",
   "metadata": {},
   "source": [
    "#### ACTIVITY 2: ANALYZE A MULTILINE STRING AND GENERATE THE UNIQUE WORD COUNT "
   ]
  },
  {
   "cell_type": "code",
   "execution_count": 140,
   "metadata": {},
   "outputs": [],
   "source": [
    "# Get multiline text and save it in a Python variable\n",
    "\n",
    "multiline_text = \"\"\"It is a truth universally acknowledged, that a single man in possession of a good fortune, must be in want of a wife.\n",
    "\n",
    "However little known the feelings or views of such a man may be on his first entering a neighbourhood, this truth is so well fixed in the minds of the surrounding families, that he is considered the rightful property of some one or other of their daughters.\n",
    "\n",
    "\"My dear Mr. Bennet,\" said his lady to him one day, \"have you heard that Netherfield Park is let at last?\"\n",
    "\n",
    "Mr. Bennet replied that he had not.\n",
    "\n",
    "\"But it is,\" returned she; \"for Mrs. Long has just been here, and she told me all about it.\"\n",
    "\n",
    "Mr. Bennet made no answer.\n",
    "\n",
    "\"Do you not want to know who has taken it?\" cried his wife impatiently.\n",
    "\n",
    "\"You want to tell me, and I have no objection to hearing it.\"\n",
    "\n",
    "This was invitation enough.\n",
    "\n",
    "\"Why, my dear, you must know, Mrs. Long says that Netherfield is taken by a young man of large fortune from the north of England; that he came down on Monday in a chaise and four to see the place, and was so much delighted with it, that he agreed with Mr. Morris immediately; that he is to take possession before Michaelmas, and some of his servants are to be in the house by the end of next week.\"\n",
    "\n",
    "\"What is his name?\"\n",
    "\n",
    "\"Bingley.\"\n",
    "\n",
    "\"Is he married or single?\"\n",
    "\n",
    "\"Oh! Single, my dear, to be sure! A single man of large fortune; four or five thousand a year. What a fine thing for our girls!\"\n",
    "\n",
    "\"How so? How can it affect them?\"\n",
    "\n",
    "\"My dear Mr. Bennet,\" replied his wife, \"how can you be so tiresome! You must know that I am thinking of his marrying one of them.\"\n",
    "\n",
    "\"Is that his design in settling here?\"\n",
    "\n",
    "\"Design! Nonsense, how can you talk so! But it is very likely that he may fall in love with one of them, and therefore you must visit him as soon as he comes.\"\n",
    "\n",
    "\"I see no occasion for that. You and the girls may go, or you may send them by themselves, which perhaps will be still better, for as you are as handsome as any of them, Mr. Bingley may like you the best of the party.\"\n",
    "\n",
    "\"My dear, you flatter me. I certainly have had my share of beauty, but I do not pretend to be anything extraordinary now. When a woman has five grown-up daughters, she ought to give over thinking of her own beauty.\"\n",
    "\n",
    "\"In such cases, a woman has not often much beauty to think of.\"\n",
    "\n",
    "\"But, my dear, you must indeed go and see Mr. Bingley when he comes into the neighbourhood.\"\n",
    "\n",
    "\"It is more than I engage for, I assure you.\"\n",
    "\n",
    "\"But consider your daughters. Only think what an establishment it would be for one of them. Sir William and Lady Lucas are determined to go, merely on that account, for in general, you know, they visit no newcomers. Indeed you must go, for it will be impossible for us to visit him if you do not.\"\n",
    "\n",
    "\"You are over-scrupulous, surely. I dare say Mr. Bingley will be very glad to see you; and I will send a few lines by you to assure him of my hearty consent to his marrying whichever he chooses of the girls; though I must throw in a good word for my little Lizzy.\"\n",
    "\n",
    "\"I desire you will do no such thing. Lizzy is not a bit better than the others; and I am sure she is not half so handsome as Jane, nor half so good-humoured as Lydia. But you are always giving her the preference.\"\n",
    "\n",
    "\"They have none of them much to recommend them,\" replied he; \"they are all silly and ignorant like other girls; but Lizzy has something more of quickness than her sisters.\"\n",
    "\n",
    "\"Mr. Bennet, how can you abuse your own children in such a way? You take delight in vexing me. You have no compassion for my poor nerves.\"\n",
    "\n",
    "\"You mistake me, my dear. I have a high respect for your nerves. They are my old friends. I have heard you mention them with consideration these last twenty years at least.\"\n",
    "\n",
    "\"Ah, you do not know what I suffer.\"\n",
    "\n",
    "\"But I hope you will get over it, and live to see many young men of four thousand a year come into the neighbourhood.\"\n",
    "\n",
    "\"It will be no use to us, if twenty such should come, since you will not visit them.\"\n",
    "\n",
    "\"Depend upon it, my dear, that when there are twenty, I will visit them all.\"\n",
    "\n",
    "Mr. Bennet was so odd a mixture of quick parts, sarcastic humour, reserve, and caprice, that the experience of three-and-twenty years had been insufficient to make his wife understand his character. Her mind was less difficult to develop. She was a woman of mean understanding, little information, and uncertain temper. When she was discontented, she fancied herself nervous. The business of her life was to get her daughters married; its solace was visiting and news. \"\"\""
   ]
  },
  {
   "cell_type": "code",
   "execution_count": 141,
   "metadata": {},
   "outputs": [
    {
     "data": {
      "text/plain": [
       "(str, 4475)"
      ]
     },
     "execution_count": 141,
     "metadata": {},
     "output_type": "execute_result"
    }
   ],
   "source": [
    "# Find the type and length of the multiline_text string using the commands type and len\n",
    "\n",
    "type(multiline_text), len(multiline_text)"
   ]
  },
  {
   "cell_type": "code",
   "execution_count": 142,
   "metadata": {},
   "outputs": [],
   "source": [
    "# Remove all new lines and symbols using the replace function# \n",
    "multiline_text = multiline_text.replace('\\n', ' ')"
   ]
  },
  {
   "cell_type": "code",
   "execution_count": 143,
   "metadata": {},
   "outputs": [
    {
     "data": {
      "text/plain": [
       "'It is a truth universally acknowledged, that a single man in possession of a good fortune, must be in want of a wife.  However little known the feelings or views of such a man may be on his first entering a neighbourhood, this truth is so well fixed in the minds of the surrounding families, that he is considered the rightful property of some one or other of their daughters.  \"My dear Mr. Bennet,\" said his lady to him one day, \"have you heard that Netherfield Park is let at last?\"  Mr. Bennet replied that he had not.  \"But it is,\" returned she; \"for Mrs. Long has just been here, and she told me all about it.\"  Mr. Bennet made no answer.  \"Do you not want to know who has taken it?\" cried his wife impatiently.  \"You want to tell me, and I have no objection to hearing it.\"  This was invitation enough.  \"Why, my dear, you must know, Mrs. Long says that Netherfield is taken by a young man of large fortune from the north of England; that he came down on Monday in a chaise and four to see the place, and was so much delighted with it, that he agreed with Mr. Morris immediately; that he is to take possession before Michaelmas, and some of his servants are to be in the house by the end of next week.\"  \"What is his name?\"  \"Bingley.\"  \"Is he married or single?\"  \"Oh! Single, my dear, to be sure! A single man of large fortune; four or five thousand a year. What a fine thing for our girls!\"  \"How so? How can it affect them?\"  \"My dear Mr. Bennet,\" replied his wife, \"how can you be so tiresome! You must know that I am thinking of his marrying one of them.\"  \"Is that his design in settling here?\"  \"Design! Nonsense, how can you talk so! But it is very likely that he may fall in love with one of them, and therefore you must visit him as soon as he comes.\"  \"I see no occasion for that. You and the girls may go, or you may send them by themselves, which perhaps will be still better, for as you are as handsome as any of them, Mr. Bingley may like you the best of the party.\"  \"My dear, you flatter me. I certainly have had my share of beauty, but I do not pretend to be anything extraordinary now. When a woman has five grown-up daughters, she ought to give over thinking of her own beauty.\"  \"In such cases, a woman has not often much beauty to think of.\"  \"But, my dear, you must indeed go and see Mr. Bingley when he comes into the neighbourhood.\"  \"It is more than I engage for, I assure you.\"  \"But consider your daughters. Only think what an establishment it would be for one of them. Sir William and Lady Lucas are determined to go, merely on that account, for in general, you know, they visit no newcomers. Indeed you must go, for it will be impossible for us to visit him if you do not.\"  \"You are over-scrupulous, surely. I dare say Mr. Bingley will be very glad to see you; and I will send a few lines by you to assure him of my hearty consent to his marrying whichever he chooses of the girls; though I must throw in a good word for my little Lizzy.\"  \"I desire you will do no such thing. Lizzy is not a bit better than the others; and I am sure she is not half so handsome as Jane, nor half so good-humoured as Lydia. But you are always giving her the preference.\"  \"They have none of them much to recommend them,\" replied he; \"they are all silly and ignorant like other girls; but Lizzy has something more of quickness than her sisters.\"  \"Mr. Bennet, how can you abuse your own children in such a way? You take delight in vexing me. You have no compassion for my poor nerves.\"  \"You mistake me, my dear. I have a high respect for your nerves. They are my old friends. I have heard you mention them with consideration these last twenty years at least.\"  \"Ah, you do not know what I suffer.\"  \"But I hope you will get over it, and live to see many young men of four thousand a year come into the neighbourhood.\"  \"It will be no use to us, if twenty such should come, since you will not visit them.\"  \"Depend upon it, my dear, that when there are twenty, I will visit them all.\"  Mr. Bennet was so odd a mixture of quick parts, sarcastic humour, reserve, and caprice, that the experience of three-and-twenty years had been insufficient to make his wife understand his character. Her mind was less difficult to develop. She was a woman of mean understanding, little information, and uncertain temper. When she was discontented, she fancied herself nervous. The business of her life was to get her daughters married; its solace was visiting and news.'"
      ]
     },
     "execution_count": 143,
     "metadata": {},
     "output_type": "execute_result"
    }
   ],
   "source": [
    "# Find all of the words in multiline_text using the split function. \n",
    "\n",
    "remove_lines = multiline_text.strip()\n",
    "remove_lines"
   ]
  },
  {
   "cell_type": "code",
   "execution_count": 144,
   "metadata": {},
   "outputs": [
    {
     "data": {
      "text/plain": [
       "{'It': 1,\n",
       " 'is': 11,\n",
       " 'a': 20,\n",
       " 'truth': 2,\n",
       " 'universally': 1,\n",
       " 'acknowledged,': 1,\n",
       " 'that': 14,\n",
       " 'single': 2,\n",
       " 'man': 4,\n",
       " 'in': 11,\n",
       " 'possession': 2,\n",
       " 'of': 28,\n",
       " 'good': 2,\n",
       " 'fortune,': 1,\n",
       " 'must': 7,\n",
       " 'be': 11,\n",
       " 'want': 3,\n",
       " 'wife.': 1,\n",
       " 'However': 1,\n",
       " 'little': 3,\n",
       " 'known': 1,\n",
       " 'the': 17,\n",
       " 'feelings': 1,\n",
       " 'or': 5,\n",
       " 'views': 1,\n",
       " 'such': 5,\n",
       " 'may': 5,\n",
       " 'on': 3,\n",
       " 'his': 11,\n",
       " 'first': 1,\n",
       " 'entering': 1,\n",
       " 'neighbourhood,': 1,\n",
       " 'this': 1,\n",
       " 'so': 6,\n",
       " 'well': 1,\n",
       " 'fixed': 1,\n",
       " 'minds': 1,\n",
       " 'surrounding': 1,\n",
       " 'families,': 1,\n",
       " 'he': 10,\n",
       " 'considered': 1,\n",
       " 'rightful': 1,\n",
       " 'property': 1,\n",
       " 'some': 2,\n",
       " 'one': 5,\n",
       " 'other': 2,\n",
       " 'their': 1,\n",
       " 'daughters.': 2,\n",
       " '\"My': 3,\n",
       " 'dear': 2,\n",
       " 'Mr.': 9,\n",
       " 'Bennet,\"': 2,\n",
       " 'said': 1,\n",
       " 'lady': 1,\n",
       " 'to': 22,\n",
       " 'him': 4,\n",
       " 'day,': 1,\n",
       " '\"have': 1,\n",
       " 'you': 22,\n",
       " 'heard': 2,\n",
       " 'Netherfield': 2,\n",
       " 'Park': 1,\n",
       " 'let': 1,\n",
       " 'at': 2,\n",
       " 'last?\"': 1,\n",
       " 'Bennet': 3,\n",
       " 'replied': 3,\n",
       " 'had': 3,\n",
       " 'not.': 1,\n",
       " '\"But': 3,\n",
       " 'it': 5,\n",
       " 'is,\"': 1,\n",
       " 'returned': 1,\n",
       " 'she;': 1,\n",
       " '\"for': 1,\n",
       " 'Mrs.': 2,\n",
       " 'Long': 2,\n",
       " 'has': 5,\n",
       " 'just': 1,\n",
       " 'been': 2,\n",
       " 'here,': 1,\n",
       " 'and': 16,\n",
       " 'she': 5,\n",
       " 'told': 1,\n",
       " 'me': 1,\n",
       " 'all': 2,\n",
       " 'about': 1,\n",
       " 'it.\"': 2,\n",
       " 'made': 1,\n",
       " 'no': 7,\n",
       " 'answer.': 1,\n",
       " '\"Do': 1,\n",
       " 'not': 7,\n",
       " 'know': 3,\n",
       " 'who': 1,\n",
       " 'taken': 2,\n",
       " 'it?\"': 1,\n",
       " 'cried': 1,\n",
       " 'wife': 2,\n",
       " 'impatiently.': 1,\n",
       " '\"You': 3,\n",
       " 'tell': 1,\n",
       " 'me,': 2,\n",
       " 'I': 15,\n",
       " 'have': 6,\n",
       " 'objection': 1,\n",
       " 'hearing': 1,\n",
       " 'This': 1,\n",
       " 'was': 8,\n",
       " 'invitation': 1,\n",
       " 'enough.': 1,\n",
       " '\"Why,': 1,\n",
       " 'my': 10,\n",
       " 'dear,': 5,\n",
       " 'know,': 2,\n",
       " 'says': 1,\n",
       " 'by': 4,\n",
       " 'young': 2,\n",
       " 'large': 2,\n",
       " 'fortune': 1,\n",
       " 'from': 1,\n",
       " 'north': 1,\n",
       " 'England;': 1,\n",
       " 'came': 1,\n",
       " 'down': 1,\n",
       " 'Monday': 1,\n",
       " 'chaise': 1,\n",
       " 'four': 3,\n",
       " 'see': 5,\n",
       " 'place,': 1,\n",
       " 'much': 3,\n",
       " 'delighted': 1,\n",
       " 'with': 4,\n",
       " 'it,': 3,\n",
       " 'agreed': 1,\n",
       " 'Morris': 1,\n",
       " 'immediately;': 1,\n",
       " 'take': 2,\n",
       " 'before': 1,\n",
       " 'Michaelmas,': 1,\n",
       " 'servants': 1,\n",
       " 'are': 8,\n",
       " 'house': 1,\n",
       " 'end': 1,\n",
       " 'next': 1,\n",
       " 'week.\"': 1,\n",
       " '\"What': 1,\n",
       " 'name?\"': 1,\n",
       " '\"Bingley.\"': 1,\n",
       " '\"Is': 2,\n",
       " 'married': 1,\n",
       " 'single?\"': 1,\n",
       " '\"Oh!': 1,\n",
       " 'Single,': 1,\n",
       " 'sure!': 1,\n",
       " 'A': 1,\n",
       " 'fortune;': 1,\n",
       " 'five': 2,\n",
       " 'thousand': 2,\n",
       " 'year.': 1,\n",
       " 'What': 1,\n",
       " 'fine': 1,\n",
       " 'thing': 1,\n",
       " 'for': 10,\n",
       " 'our': 1,\n",
       " 'girls!\"': 1,\n",
       " '\"How': 1,\n",
       " 'so?': 1,\n",
       " 'How': 1,\n",
       " 'can': 4,\n",
       " 'affect': 1,\n",
       " 'them?\"': 1,\n",
       " 'wife,': 1,\n",
       " '\"how': 1,\n",
       " 'tiresome!': 1,\n",
       " 'You': 4,\n",
       " 'am': 2,\n",
       " 'thinking': 2,\n",
       " 'marrying': 2,\n",
       " 'them.\"': 2,\n",
       " 'design': 1,\n",
       " 'settling': 1,\n",
       " 'here?\"': 1,\n",
       " '\"Design!': 1,\n",
       " 'Nonsense,': 1,\n",
       " 'how': 2,\n",
       " 'talk': 1,\n",
       " 'so!': 1,\n",
       " 'But': 2,\n",
       " 'very': 2,\n",
       " 'likely': 1,\n",
       " 'fall': 1,\n",
       " 'love': 1,\n",
       " 'them,': 2,\n",
       " 'therefore': 1,\n",
       " 'visit': 5,\n",
       " 'as': 7,\n",
       " 'soon': 1,\n",
       " 'comes.\"': 1,\n",
       " '\"I': 2,\n",
       " 'occasion': 1,\n",
       " 'that.': 1,\n",
       " 'girls': 1,\n",
       " 'go,': 3,\n",
       " 'send': 2,\n",
       " 'them': 4,\n",
       " 'themselves,': 1,\n",
       " 'which': 1,\n",
       " 'perhaps': 1,\n",
       " 'will': 9,\n",
       " 'still': 1,\n",
       " 'better,': 1,\n",
       " 'handsome': 2,\n",
       " 'any': 1,\n",
       " 'Bingley': 3,\n",
       " 'like': 2,\n",
       " 'best': 1,\n",
       " 'party.\"': 1,\n",
       " 'flatter': 1,\n",
       " 'me.': 2,\n",
       " 'certainly': 1,\n",
       " 'share': 1,\n",
       " 'beauty,': 1,\n",
       " 'but': 2,\n",
       " 'do': 4,\n",
       " 'pretend': 1,\n",
       " 'anything': 1,\n",
       " 'extraordinary': 1,\n",
       " 'now.': 1,\n",
       " 'When': 2,\n",
       " 'woman': 3,\n",
       " 'grown-up': 1,\n",
       " 'daughters,': 1,\n",
       " 'ought': 1,\n",
       " 'give': 1,\n",
       " 'over': 2,\n",
       " 'her': 5,\n",
       " 'own': 2,\n",
       " 'beauty.\"': 1,\n",
       " '\"In': 1,\n",
       " 'cases,': 1,\n",
       " 'often': 1,\n",
       " 'beauty': 1,\n",
       " 'think': 2,\n",
       " 'of.\"': 1,\n",
       " '\"But,': 1,\n",
       " 'indeed': 1,\n",
       " 'go': 1,\n",
       " 'when': 2,\n",
       " 'comes': 1,\n",
       " 'into': 2,\n",
       " 'neighbourhood.\"': 2,\n",
       " '\"It': 2,\n",
       " 'more': 2,\n",
       " 'than': 3,\n",
       " 'engage': 1,\n",
       " 'for,': 1,\n",
       " 'assure': 2,\n",
       " 'you.\"': 1,\n",
       " 'consider': 1,\n",
       " 'your': 3,\n",
       " 'Only': 1,\n",
       " 'what': 2,\n",
       " 'an': 1,\n",
       " 'establishment': 1,\n",
       " 'would': 1,\n",
       " 'them.': 1,\n",
       " 'Sir': 1,\n",
       " 'William': 1,\n",
       " 'Lady': 1,\n",
       " 'Lucas': 1,\n",
       " 'determined': 1,\n",
       " 'merely': 1,\n",
       " 'account,': 1,\n",
       " 'general,': 1,\n",
       " 'they': 1,\n",
       " 'newcomers.': 1,\n",
       " 'Indeed': 1,\n",
       " 'impossible': 1,\n",
       " 'us': 1,\n",
       " 'if': 2,\n",
       " 'not.\"': 1,\n",
       " 'over-scrupulous,': 1,\n",
       " 'surely.': 1,\n",
       " 'dare': 1,\n",
       " 'say': 1,\n",
       " 'glad': 1,\n",
       " 'you;': 1,\n",
       " 'few': 1,\n",
       " 'lines': 1,\n",
       " 'hearty': 1,\n",
       " 'consent': 1,\n",
       " 'whichever': 1,\n",
       " 'chooses': 1,\n",
       " 'girls;': 2,\n",
       " 'though': 1,\n",
       " 'throw': 1,\n",
       " 'word': 1,\n",
       " 'Lizzy.\"': 1,\n",
       " 'desire': 1,\n",
       " 'thing.': 1,\n",
       " 'Lizzy': 2,\n",
       " 'bit': 1,\n",
       " 'better': 1,\n",
       " 'others;': 1,\n",
       " 'sure': 1,\n",
       " 'half': 2,\n",
       " 'Jane,': 1,\n",
       " 'nor': 1,\n",
       " 'good-humoured': 1,\n",
       " 'Lydia.': 1,\n",
       " 'always': 1,\n",
       " 'giving': 1,\n",
       " 'preference.\"': 1,\n",
       " '\"They': 1,\n",
       " 'none': 1,\n",
       " 'recommend': 1,\n",
       " 'them,\"': 1,\n",
       " 'he;': 1,\n",
       " '\"they': 1,\n",
       " 'silly': 1,\n",
       " 'ignorant': 1,\n",
       " 'something': 1,\n",
       " 'quickness': 1,\n",
       " 'sisters.\"': 1,\n",
       " '\"Mr.': 1,\n",
       " 'Bennet,': 1,\n",
       " 'abuse': 1,\n",
       " 'children': 1,\n",
       " 'way?': 1,\n",
       " 'delight': 1,\n",
       " 'vexing': 1,\n",
       " 'compassion': 1,\n",
       " 'poor': 1,\n",
       " 'nerves.\"': 1,\n",
       " 'mistake': 1,\n",
       " 'dear.': 1,\n",
       " 'high': 1,\n",
       " 'respect': 1,\n",
       " 'nerves.': 1,\n",
       " 'They': 1,\n",
       " 'old': 1,\n",
       " 'friends.': 1,\n",
       " 'mention': 1,\n",
       " 'consideration': 1,\n",
       " 'these': 1,\n",
       " 'last': 1,\n",
       " 'twenty': 2,\n",
       " 'years': 2,\n",
       " 'least.\"': 1,\n",
       " '\"Ah,': 1,\n",
       " 'suffer.\"': 1,\n",
       " 'hope': 1,\n",
       " 'get': 2,\n",
       " 'live': 1,\n",
       " 'many': 1,\n",
       " 'men': 1,\n",
       " 'year': 1,\n",
       " 'come': 1,\n",
       " 'use': 1,\n",
       " 'us,': 1,\n",
       " 'should': 1,\n",
       " 'come,': 1,\n",
       " 'since': 1,\n",
       " '\"Depend': 1,\n",
       " 'upon': 1,\n",
       " 'there': 1,\n",
       " 'twenty,': 1,\n",
       " 'all.\"': 1,\n",
       " 'odd': 1,\n",
       " 'mixture': 1,\n",
       " 'quick': 1,\n",
       " 'parts,': 1,\n",
       " 'sarcastic': 1,\n",
       " 'humour,': 1,\n",
       " 'reserve,': 1,\n",
       " 'caprice,': 1,\n",
       " 'experience': 1,\n",
       " 'three-and-twenty': 1,\n",
       " 'insufficient': 1,\n",
       " 'make': 1,\n",
       " 'understand': 1,\n",
       " 'character.': 1,\n",
       " 'Her': 1,\n",
       " 'mind': 1,\n",
       " 'less': 1,\n",
       " 'difficult': 1,\n",
       " 'develop.': 1,\n",
       " 'She': 1,\n",
       " 'mean': 1,\n",
       " 'understanding,': 1,\n",
       " 'information,': 1,\n",
       " 'uncertain': 1,\n",
       " 'temper.': 1,\n",
       " 'discontented,': 1,\n",
       " 'fancied': 1,\n",
       " 'herself': 1,\n",
       " 'nervous.': 1,\n",
       " 'The': 1,\n",
       " 'business': 1,\n",
       " 'life': 1,\n",
       " 'daughters': 1,\n",
       " 'married;': 1,\n",
       " 'its': 1,\n",
       " 'solace': 1,\n",
       " 'visiting': 1,\n",
       " 'news.': 1}"
      ]
     },
     "execution_count": 144,
     "metadata": {},
     "output_type": "execute_result"
    }
   ],
   "source": [
    "# Find all of the words in multiline_text using the split function.\n",
    "# Create a list from this list that will contain only the unique words\n",
    "\n",
    "import string\n",
    "\n",
    "\n",
    "out = remove_lines.translate(str.maketrans('', '', string.punctuation))\n",
    "\n",
    "words_split = remove_lines.split()\n",
    "dict1 = {}\n",
    "for word in words_split:\n",
    "    if word in dict1:\n",
    "        dict1[word] += 1\n",
    "    else:\n",
    "        dict1[word] = 1\n",
    "dict1    "
   ]
  },
  {
   "cell_type": "code",
   "execution_count": 145,
   "metadata": {},
   "outputs": [
    {
     "data": {
      "text/plain": [
       "['of',\n",
       " 'to',\n",
       " 'you',\n",
       " 'a',\n",
       " 'the',\n",
       " 'and',\n",
       " 'I',\n",
       " 'that',\n",
       " 'is',\n",
       " 'in',\n",
       " 'be',\n",
       " 'his',\n",
       " 'he',\n",
       " 'my',\n",
       " 'for',\n",
       " 'Mr.',\n",
       " 'will',\n",
       " 'was',\n",
       " 'are',\n",
       " 'must',\n",
       " 'no',\n",
       " 'not',\n",
       " 'as',\n",
       " 'so',\n",
       " 'have']"
      ]
     },
     "execution_count": 145,
     "metadata": {},
     "output_type": "execute_result"
    }
   ],
   "source": [
    "# Find the top 25 words from the unique words that you have found using the slice function.\n",
    "\n",
    "my_keys = sorted(dict1, key = dict1.get, reverse = True)[:25]\n",
    "my_keys"
   ]
  },
  {
   "cell_type": "markdown",
   "metadata": {},
   "source": [
    "#### ACTIVITY 3: PERMUTATION, ITERATOR, LAMBDA, LIST  \n",
    "In this activity, we will be using permutations to generate all possible threedigit numbers that can be generated \n",
    "using 0, 1, and 2. Then, loop over this iterator, and also use isinstance and assert to make sure that the return \n",
    "types are tuples. Also, use a single line of code involving dropwhile and lambda expressions to convert all the\n",
    "tuples to lists while dropping any leading zeros (for example, (0, 1, 2) becomes [1, 2]). \n",
    "Finally, write a function that takes a list like before and returns the actual number contained in it."
   ]
  },
  {
   "cell_type": "code",
   "execution_count": 146,
   "metadata": {},
   "outputs": [],
   "source": [
    "from itertools import permutations, dropwhile"
   ]
  },
  {
   "cell_type": "code",
   "execution_count": 147,
   "metadata": {},
   "outputs": [],
   "source": [
    "permutations?"
   ]
  },
  {
   "cell_type": "code",
   "execution_count": 148,
   "metadata": {},
   "outputs": [],
   "source": [
    "dropwhile?"
   ]
  },
  {
   "cell_type": "code",
   "execution_count": 149,
   "metadata": {},
   "outputs": [
    {
     "data": {
      "text/plain": [
       "<itertools.permutations at 0x1f1cbb3f400>"
      ]
     },
     "execution_count": 149,
     "metadata": {},
     "output_type": "execute_result"
    }
   ],
   "source": [
    "permutations(range(3))"
   ]
  },
  {
   "cell_type": "code",
   "execution_count": 150,
   "metadata": {},
   "outputs": [
    {
     "name": "stdout",
     "output_type": "stream",
     "text": [
      "(0, 1, 2)\n",
      "(0, 2, 1)\n",
      "(1, 0, 2)\n",
      "(1, 2, 0)\n",
      "(2, 0, 1)\n",
      "(2, 1, 0)\n"
     ]
    }
   ],
   "source": [
    "#  Wrote an expression to generate all the possible three-digit numbers using 0, 1, and 2.\n",
    "# Use assert and isinstance to make sure that the elements are of the tuple type\n",
    "\n",
    "for i in permutations(range(3)):\n",
    "    print(i)\n",
    "    assert isinstance(i, tuple)"
   ]
  },
  {
   "cell_type": "code",
   "execution_count": 151,
   "metadata": {},
   "outputs": [
    {
     "name": "stdout",
     "output_type": "stream",
     "text": [
      "[1, 2]\n",
      "[2, 1]\n",
      "[1, 0, 2]\n",
      "[1, 2, 0]\n",
      "[2, 0, 1]\n",
      "[2, 1, 0]\n"
     ]
    }
   ],
   "source": [
    "# casted the output of dropwhile to a list\n",
    "\n",
    "for i in permutations(range(3)):\n",
    "    print(list(dropwhile(lambda x: x<= 0, i)))"
   ]
  },
  {
   "cell_type": "code",
   "execution_count": 183,
   "metadata": {},
   "outputs": [
    {
     "name": "stdout",
     "output_type": "stream",
     "text": [
      "12.0\n",
      "21.0\n",
      "102.0\n",
      "120.0\n",
      "201.0\n",
      "210.0\n"
     ]
    }
   ],
   "source": [
    "# Combine the preceding code into one block, and this time write a separate function where you will pass the list generated from dropwhile, \n",
    "# and the function will return the whole number contained in the list.\n",
    "\n",
    "import math\n",
    "\n",
    "def new_num(number_stack):\n",
    "    final_number = 0\n",
    "    for i in range(0, len(number_stack)):\n",
    "        final_number += (number_stack.pop() * (math.pow(10, i)))\n",
    "    return final_number\n",
    "\n",
    "for number_tuple in permutations(range(3)):\n",
    "    number_stack = list(dropwhile(lambda x : x == 0, number_tuple))\n",
    "    print(new_num(number_stack))"
   ]
  },
  {
   "cell_type": "markdown",
   "metadata": {},
   "source": [
    "#### ACTIVITY 4: DESIGN YOUR OWN CSV PARSER "
   ]
  },
  {
   "cell_type": "code",
   "execution_count": 152,
   "metadata": {},
   "outputs": [],
   "source": [
    "# Import zip_longest from itertools.\n",
    "\n",
    "from itertools import zip_longest"
   ]
  },
  {
   "cell_type": "code",
   "execution_count": 153,
   "metadata": {},
   "outputs": [],
   "source": [
    "# Create a function to zip header, line and fillvalue=None.\n",
    "\n",
    "def zip_header(header, line):\n",
    "    zipped = zip_longest(header, line, fillvalue = None)\n",
    "    use_dict = {kv[0]: kv[1] for kv in zipped}\n",
    "    return use_dict"
   ]
  },
  {
   "cell_type": "code",
   "execution_count": 162,
   "metadata": {},
   "outputs": [],
   "source": [
    "# Open the accompanying sales_record.csv file from the GitHub\n",
    "# link by using r mode inside a with block and first check that it is opened.\n",
    "\n",
    "f = open(\"C:/Users/Saurabh/Desktop/sales_record.csv\", \"r\")\n",
    "if f.closed:\n",
    "  print (\"file is closed\")"
   ]
  },
  {
   "cell_type": "code",
   "execution_count": 154,
   "metadata": {},
   "outputs": [
    {
     "name": "stdout",
     "output_type": "stream",
     "text": [
      "Region,Country,Item Type,Sales Channel,Order Priority,Order Date,Order ID,Ship Date,Units Sold,Unit Price,Unit Cost,Total Revenue,Total Cost,Total Profit\n",
      "\n"
     ]
    }
   ],
   "source": [
    "# Read the first line and use string methods to generate a list of all the column names.\n",
    "\n",
    "with open('C:/Users/Saurabh/Desktop/sales_record.csv', \"r\") as fd:\n",
    "    first_line = fd.readline()\n",
    "    header = first_line.replace(\"\\n\", \"\").split(\",\")\n",
    "    print(first_line)"
   ]
  },
  {
   "cell_type": "code",
   "execution_count": 163,
   "metadata": {},
   "outputs": [
    {
     "name": "stdout",
     "output_type": "stream",
     "text": [
      "{'Region': 'Central America and the Caribbean', 'Country': 'Antigua and Barbuda ', 'Item Type': 'Baby Food', 'Sales Channel': 'Online', 'Order Priority': 'M', 'Order Date': '12/20/2013', 'Order ID': '957081544', 'Ship Date': '1/11/2014', 'Units Sold': '552', 'Unit Price': '255.28', 'Unit Cost': '159.42', 'Total Revenue': '140914.56', 'Total Cost': '87999.84', 'Total Profit': '52914.72'}\n",
      "{'Region': 'Central America and the Caribbean', 'Country': 'Panama', 'Item Type': 'Snacks', 'Sales Channel': 'Offline', 'Order Priority': 'C', 'Order Date': '7/5/2010', 'Order ID': '301644504', 'Ship Date': '7/26/2010', 'Units Sold': '2167', 'Unit Price': '152.58', 'Unit Cost': '97.44', 'Total Revenue': '330640.86', 'Total Cost': '211152.48', 'Total Profit': '119488.38'}\n",
      "{'Region': 'Europe', 'Country': 'Czech Republic', 'Item Type': 'Beverages', 'Sales Channel': 'Offline', 'Order Priority': 'C', 'Order Date': '9/12/2011', 'Order ID': '478051030', 'Ship Date': '9/29/2011', 'Units Sold': '4778', 'Unit Price': '47.45', 'Unit Cost': '31.79', 'Total Revenue': '226716.10', 'Total Cost': '151892.62', 'Total Profit': '74823.48'}\n",
      "{'Region': 'Asia', 'Country': 'North Korea', 'Item Type': 'Cereal', 'Sales Channel': 'Offline', 'Order Priority': 'L', 'Order Date': '5/13/2010', 'Order ID': '892599952', 'Ship Date': '6/15/2010', 'Units Sold': '9016', 'Unit Price': '205.70', 'Unit Cost': '117.11', 'Total Revenue': '1854591.20', 'Total Cost': '1055863.76', 'Total Profit': '798727.44'}\n",
      "{'Region': 'Asia', 'Country': 'Sri Lanka', 'Item Type': 'Snacks', 'Sales Channel': 'Offline', 'Order Priority': 'C', 'Order Date': '7/20/2015', 'Order ID': '571902596', 'Ship Date': '7/27/2015', 'Units Sold': '7542', 'Unit Price': '152.58', 'Unit Cost': '97.44', 'Total Revenue': '1150758.36', 'Total Cost': '734892.48', 'Total Profit': '415865.88'}\n",
      "{'Region': 'Middle East and North Africa', 'Country': 'Morocco', 'Item Type': 'Personal Care', 'Sales Channel': 'Offline', 'Order Priority': 'L', 'Order Date': '11/8/2010', 'Order ID': '412882792', 'Ship Date': '11/22/2010', 'Units Sold': '48', 'Unit Price': '81.73', 'Unit Cost': '56.67', 'Total Revenue': '3923.04', 'Total Cost': '2720.16', 'Total Profit': '1202.88'}\n",
      "{'Region': 'Australia and Oceania', 'Country': 'Federated States of Micronesia', 'Item Type': 'Clothes', 'Sales Channel': 'Offline', 'Order Priority': 'H', 'Order Date': '3/28/2011', 'Order ID': '932776868', 'Ship Date': '5/10/2011', 'Units Sold': '8258', 'Unit Price': '109.28', 'Unit Cost': '35.84', 'Total Revenue': '902434.24', 'Total Cost': '295966.72', 'Total Profit': '606467.52'}\n",
      "{'Region': 'Europe', 'Country': 'Bosnia and Herzegovina', 'Item Type': 'Clothes', 'Sales Channel': 'Online', 'Order Priority': 'M', 'Order Date': '10/14/2013', 'Order ID': '919133651', 'Ship Date': '11/4/2013', 'Units Sold': '927', 'Unit Price': '109.28', 'Unit Cost': '35.84', 'Total Revenue': '101302.56', 'Total Cost': '33223.68', 'Total Profit': '68078.88'}\n",
      "{'Region': 'Middle East and North Africa', 'Country': 'Afghanistan', 'Item Type': 'Clothes', 'Sales Channel': 'Offline', 'Order Priority': 'M', 'Order Date': '8/27/2016', 'Order ID': '579814469', 'Ship Date': '10/5/2016', 'Units Sold': '8841', 'Unit Price': '109.28', 'Unit Cost': '35.84', 'Total Revenue': '966144.48', 'Total Cost': '316861.44', 'Total Profit': '649283.04'}\n",
      "{'Region': 'Sub-Saharan Africa', 'Country': 'Ethiopia', 'Item Type': 'Baby Food', 'Sales Channel': 'Online', 'Order Priority': 'M', 'Order Date': '4/13/2015', 'Order ID': '192993152', 'Ship Date': '5/7/2015', 'Units Sold': '9817', 'Unit Price': '255.28', 'Unit Cost': '159.42', 'Total Revenue': '2506083.76', 'Total Cost': '1565026.14', 'Total Profit': '941057.62'}\n",
      "{'Region': 'Middle East and North Africa', 'Country': 'Turkey', 'Item Type': 'Office Supplies', 'Sales Channel': 'Offline', 'Order Priority': 'C', 'Order Date': '9/25/2013', 'Order ID': '557156026', 'Ship Date': '10/15/2013', 'Units Sold': '3704', 'Unit Price': '651.21', 'Unit Cost': '524.96', 'Total Revenue': '2412081.84', 'Total Cost': '1944451.84', 'Total Profit': '467630.00'}\n",
      "{'Region': 'Middle East and North Africa', 'Country': 'Oman', 'Item Type': 'Cosmetics', 'Sales Channel': 'Online', 'Order Priority': 'M', 'Order Date': '5/12/2013', 'Order ID': '741101920', 'Ship Date': '5/17/2013', 'Units Sold': '7382', 'Unit Price': '437.20', 'Unit Cost': '263.33', 'Total Revenue': '3227410.40', 'Total Cost': '1943902.06', 'Total Profit': '1283508.34'}\n",
      "{'Region': 'Asia', 'Country': 'Malaysia', 'Item Type': 'Cereal', 'Sales Channel': 'Offline', 'Order Priority': 'L', 'Order Date': '7/31/2016', 'Order ID': '333942162', 'Ship Date': '8/25/2016', 'Units Sold': '9762', 'Unit Price': '205.70', 'Unit Cost': '117.11', 'Total Revenue': '2008043.40', 'Total Cost': '1143227.82', 'Total Profit': '864815.58'}\n",
      "{'Region': 'Central America and the Caribbean', 'Country': 'Saint Lucia', 'Item Type': 'Cosmetics', 'Sales Channel': 'Offline', 'Order Priority': 'H', 'Order Date': '7/6/2015', 'Order ID': '795100581', 'Ship Date': '7/16/2015', 'Units Sold': '6786', 'Unit Price': '437.20', 'Unit Cost': '263.33', 'Total Revenue': '2966839.20', 'Total Cost': '1786957.38', 'Total Profit': '1179881.82'}\n",
      "{'Region': 'Central America and the Caribbean', 'Country': 'Saint Vincent and the Grenadines', 'Item Type': 'Baby Food', 'Sales Channel': 'Online', 'Order Priority': 'L', 'Order Date': '11/28/2010', 'Order ID': '504313504', 'Ship Date': '12/3/2010', 'Units Sold': '6428', 'Unit Price': '255.28', 'Unit Cost': '159.42', 'Total Revenue': '1640939.84', 'Total Cost': '1024751.76', 'Total Profit': '616188.08'}\n",
      "{'Region': 'Middle East and North Africa', 'Country': 'Lebanon', 'Item Type': 'Meat', 'Sales Channel': 'Offline', 'Order Priority': 'H', 'Order Date': '12/17/2015', 'Order ID': '611629760', 'Ship Date': '1/31/2016', 'Units Sold': '3693', 'Unit Price': '421.89', 'Unit Cost': '364.69', 'Total Revenue': '1558039.77', 'Total Cost': '1346800.17', 'Total Profit': '211239.60'}\n",
      "{'Region': 'Europe', 'Country': 'Austria', 'Item Type': 'Cereal', 'Sales Channel': 'Offline', 'Order Priority': 'C', 'Order Date': '8/13/2014', 'Order ID': '987410676', 'Ship Date': '9/6/2014', 'Units Sold': '5616', 'Unit Price': '205.70', 'Unit Cost': '117.11', 'Total Revenue': '1155211.20', 'Total Cost': '657689.76', 'Total Profit': '497521.44'}\n"
     ]
    }
   ],
   "source": [
    "#  Read each line and pass that line to a function, along with the list of the headers. The work of the function is to construct \n",
    "# a dict out of these two and fill up the key:values. \n",
    "\n",
    "with open(\"C:/Users/Saurabh/Desktop/sales_record.csv\", \"r\") as fd:\n",
    "    first_line = fd.readline()\n",
    "    header = first_line.replace(\"\\n\", \"\").split(\",\")\n",
    "    for i, line in enumerate(fd):\n",
    "        line = line.replace(\"\\n\", \"\").split(\",\")\n",
    "        d = zip_header(header, line)\n",
    "        print(d)\n",
    "        if i > 15:\n",
    "            break"
   ]
  },
  {
   "cell_type": "code",
   "execution_count": null,
   "metadata": {},
   "outputs": [],
   "source": []
  }
 ],
 "metadata": {
  "kernelspec": {
   "display_name": "Python 3",
   "language": "python",
   "name": "python3"
  },
  "language_info": {
   "codemirror_mode": {
    "name": "ipython",
    "version": 3
   },
   "file_extension": ".py",
   "mimetype": "text/x-python",
   "name": "python",
   "nbconvert_exporter": "python",
   "pygments_lexer": "ipython3",
   "version": "3.8.5"
  }
 },
 "nbformat": 4,
 "nbformat_minor": 4
}
